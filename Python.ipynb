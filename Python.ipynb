{
  "cells": [
    {
      "cell_type": "markdown",
      "metadata": {
        "id": "view-in-github",
        "colab_type": "text"
      },
      "source": [
        "<a href=\"https://colab.research.google.com/github/vivian-Bichii/python_experience/blob/main/Python.ipynb\" target=\"_parent\"><img src=\"https://colab.research.google.com/assets/colab-badge.svg\" alt=\"Open In Colab\"/></a>"
      ]
    },
    {
      "cell_type": "code",
      "execution_count": null,
      "metadata": {
        "colab": {
          "base_uri": "https://localhost:8080/"
        },
        "id": "X69TBuMYW7WN",
        "outputId": "0f3605b2-e07d-47c6-dacb-bdb0cfeb63af"
      },
      "outputs": [
        {
          "name": "stdout",
          "output_type": "stream",
          "text": [
            "13\n"
          ]
        }
      ],
      "source": [
        "def add_three(input_var):\n",
        "    output_var = input_var + 3\n",
        "    return output_var\n",
        "\n",
        "new_number = add_three(10)   \n",
        "print(new_number) "
      ]
    },
    {
      "cell_type": "code",
      "execution_count": null,
      "metadata": {
        "colab": {
          "base_uri": "https://localhost:8080/"
        },
        "id": "A9mYF_Ciow57",
        "outputId": "6972dd95-5f86-4311-9365-24693b39f7e5"
      },
      "outputs": [
        {
          "output_type": "stream",
          "name": "stdout",
          "text": [
            "Hello Vivian\n"
          ]
        }
      ],
      "source": [
        "def first_name(input_var):\n",
        "    output_var = \"Hello \" + input_var\n",
        "    return output_var\n",
        "\n",
        "name_1 = first_name(\"Vivian\")\n",
        "print(name_1)\n"
      ]
    },
    {
      "cell_type": "code",
      "execution_count": 9,
      "metadata": {
        "id": "TgzbooZRXDT1",
        "colab": {
          "base_uri": "https://localhost:8080/"
        },
        "outputId": "ffe31564-e60e-4504-c145-f3cd37ea2596"
      },
      "outputs": [
        {
          "output_type": "stream",
          "name": "stdout",
          "text": [
            "528.0\n"
          ]
        }
      ],
      "source": [
        "def pay_check(input_hrs):\n",
        "    pay_pretax = input_hrs * 15\n",
        "    pay_posttax = pay_pretax * (1-0.12)\n",
        "    return pay_posttax\n",
        "\n",
        "payment = pay_check(40)\n",
        "print(payment)    \n"
      ]
    },
    {
      "cell_type": "code",
      "source": [
        "def payment(hours, pay, tax):\n",
        "      pre_tax = hours * pay\n",
        "      post_tax = pre_tax * (1 - tax)\n",
        "      return post_tax\n",
        "\n",
        "final_pay = payment(40, 24, 0.22)\n",
        "print(final_pay)      "
      ],
      "metadata": {
        "id": "rRBTTuEG0iW0",
        "colab": {
          "base_uri": "https://localhost:8080/"
        },
        "outputId": "e670ba13-9185-4cd0-fc36-a3b53fbf6a26"
      },
      "execution_count": 7,
      "outputs": [
        {
          "output_type": "stream",
          "name": "stdout",
          "text": [
            "748.8000000000001\n"
          ]
        }
      ]
    },
    {
      "cell_type": "code",
      "source": [
        "x = 6\n",
        "print(x)\n",
        "print(type(x))"
      ],
      "metadata": {
        "id": "AGxbaYkj0iga",
        "colab": {
          "base_uri": "https://localhost:8080/"
        },
        "outputId": "c47f8cc6-3546-4f36-a469-9f3fab78481f"
      },
      "execution_count": 8,
      "outputs": [
        {
          "output_type": "stream",
          "name": "stdout",
          "text": [
            "6\n",
            "<class 'int'>\n"
          ]
        }
      ]
    },
    {
      "cell_type": "code",
      "source": [
        "y = 3.1415927\n",
        "print(y)\n",
        "print(type(y))\n",
        "\n",
        "y1=22/7\n",
        "print(y1)\n",
        "print(type(y1))"
      ],
      "metadata": {
        "colab": {
          "base_uri": "https://localhost:8080/"
        },
        "id": "ZNym9VG05imy",
        "outputId": "a3dac894-db30-4d39-ab51-1e5b6b129f3b"
      },
      "execution_count": 11,
      "outputs": [
        {
          "output_type": "stream",
          "name": "stdout",
          "text": [
            "3.1415927\n",
            "<class 'float'>\n",
            "3.142857142857143\n",
            "<class 'float'>\n"
          ]
        }
      ]
    },
    {
      "cell_type": "code",
      "source": [
        "rounded_y1 = round(y1, 5)\n",
        "print(rounded_y1)\n",
        "print(type(rounded_y1))"
      ],
      "metadata": {
        "colab": {
          "base_uri": "https://localhost:8080/"
        },
        "id": "uQWEI2Y46O97",
        "outputId": "cc61e14c-5a45-4369-982e-1075dfc9f9a0"
      },
      "execution_count": 12,
      "outputs": [
        {
          "output_type": "stream",
          "name": "stdout",
          "text": [
            "3.14286\n",
            "<class 'float'>\n"
          ]
        }
      ]
    },
    {
      "cell_type": "code",
      "source": [
        "trial_1 = True\n",
        "print(trial_1)\n",
        "print(type(trial_1))"
      ],
      "metadata": {
        "colab": {
          "base_uri": "https://localhost:8080/"
        },
        "id": "FqY_9vft86FQ",
        "outputId": "f1f8fb0b-d39d-4fbc-db23-8902bfb0c168"
      },
      "execution_count": 16,
      "outputs": [
        {
          "output_type": "stream",
          "name": "stdout",
          "text": [
            "True\n",
            "<class 'bool'>\n"
          ]
        }
      ]
    },
    {
      "cell_type": "code",
      "source": [
        "trial_2 = False\n",
        "print(trial_2)\n",
        "print(type(trial_2))"
      ],
      "metadata": {
        "colab": {
          "base_uri": "https://localhost:8080/"
        },
        "id": "qvxG6JUa9aXB",
        "outputId": "5532fd79-f6a5-4d80-a124-fc084919fffa"
      },
      "execution_count": 19,
      "outputs": [
        {
          "output_type": "stream",
          "name": "stdout",
          "text": [
            "False\n",
            "<class 'bool'>\n"
          ]
        }
      ]
    },
    {
      "cell_type": "code",
      "source": [
        "trial_3 = 3 < 5\n",
        "print(trial_3)\n",
        "print(type(trial_3))"
      ],
      "metadata": {
        "colab": {
          "base_uri": "https://localhost:8080/"
        },
        "id": "FA8Wdx9L99zX",
        "outputId": "95aae5ae-0063-4c83-9f2d-6932979b89b1"
      },
      "execution_count": 20,
      "outputs": [
        {
          "output_type": "stream",
          "name": "stdout",
          "text": [
            "True\n",
            "<class 'bool'>\n"
          ]
        }
      ]
    },
    {
      "cell_type": "code",
      "source": [
        "trial_4 = 4 > 8\n",
        "print(trial_4)"
      ],
      "metadata": {
        "colab": {
          "base_uri": "https://localhost:8080/"
        },
        "id": "HhaI6aG3-ZCv",
        "outputId": "860a92db-e0a9-4ffa-f8e1-5f8fb53c5ca6"
      },
      "execution_count": 21,
      "outputs": [
        {
          "output_type": "stream",
          "name": "stdout",
          "text": [
            "False\n"
          ]
        }
      ]
    },
    {
      "cell_type": "code",
      "source": [
        "try_1 = \"Hello, Vivian!\"\n",
        "print(try_1)\n",
        "print(type(try_1))\n",
        "len(try_1)"
      ],
      "metadata": {
        "colab": {
          "base_uri": "https://localhost:8080/"
        },
        "id": "opQ8Ie52-7r1",
        "outputId": "1a99f730-eaa4-435c-d031-f506258e4c64"
      },
      "execution_count": 22,
      "outputs": [
        {
          "output_type": "stream",
          "name": "stdout",
          "text": [
            "Hello, Vivian!\n",
            "<class 'str'>\n"
          ]
        },
        {
          "output_type": "execute_result",
          "data": {
            "text/plain": [
              "14"
            ]
          },
          "metadata": {},
          "execution_count": 22
        }
      ]
    },
    {
      "cell_type": "code",
      "source": [
        "h_1 = '3.1415'\n",
        "type(h_1)\n",
        "h_11 = float(h_1)\n",
        "type(h_11)"
      ],
      "metadata": {
        "colab": {
          "base_uri": "https://localhost:8080/"
        },
        "id": "JzPce12B_pgT",
        "outputId": "9a1305b7-9816-4f48-8c5d-4ad94641aded"
      },
      "execution_count": 25,
      "outputs": [
        {
          "output_type": "execute_result",
          "data": {
            "text/plain": [
              "float"
            ]
          },
          "metadata": {},
          "execution_count": 25
        }
      ]
    },
    {
      "cell_type": "code",
      "source": [
        "print(\"Vivian \" + \"Jebichii\")\n",
        "print((\" Vivian! \" + \"You got this!\" ) * 3)\n",
        "\n"
      ],
      "metadata": {
        "colab": {
          "base_uri": "https://localhost:8080/"
        },
        "id": "GckOCSJrBNL-",
        "outputId": "c0eed1d5-9a44-47eb-e36b-a5980903884e"
      },
      "execution_count": 32,
      "outputs": [
        {
          "output_type": "stream",
          "name": "stdout",
          "text": [
            "Vivian Jebichii\n",
            " Vivian! You got this! Vivian! You got this! Vivian! You got this!\n"
          ]
        }
      ]
    },
    {
      "cell_type": "code",
      "source": [
        "#conditions and conditional statements\n",
        "var_1 = 1\n",
        "var_2 = 2\n",
        "\n",
        "print(var_1 < 1)\n",
        "print(var_2 >= var_1)"
      ],
      "metadata": {
        "colab": {
          "base_uri": "https://localhost:8080/"
        },
        "id": "HA-mO-glk59N",
        "outputId": "47fee95a-2e77-42b8-f9c6-30524d371417"
      },
      "execution_count": 3,
      "outputs": [
        {
          "output_type": "stream",
          "name": "stdout",
          "text": [
            "False\n",
            "True\n"
          ]
        }
      ]
    },
    {
      "cell_type": "code",
      "source": [
        "#'if' statements\n",
        "#using human body temperature\n",
        "def temp_evaluation(temp):\n",
        "    output = \"Normal Body Temperature\"\n",
        "    if temp > 38:\n",
        "        output = \"Fever!\"\n",
        "    return output\n",
        "\n",
        "print(temp_evaluation(37))\n",
        "print(temp_evaluation(39))\n"
      ],
      "metadata": {
        "colab": {
          "base_uri": "https://localhost:8080/"
        },
        "id": "GRK7atDDlTx6",
        "outputId": "dcfbde17-34a0-4ffd-8362-817d35fe7b7b"
      },
      "execution_count": 9,
      "outputs": [
        {
          "output_type": "stream",
          "name": "stdout",
          "text": [
            "Normal Body Temperature\n",
            "Fever!\n"
          ]
        }
      ]
    },
    {
      "cell_type": "code",
      "source": [
        "#'if..else' statements\n",
        "def temp_evaluation_2(temp_2):\n",
        "    if temp_2 > 38:\n",
        "        output = \"Fever!\"\n",
        "    else:\n",
        "        output = \"Normal Temperature\" \n",
        "    return output\n",
        "\n",
        "print(temp_evaluation_2(37))            \n",
        "print(temp_evaluation_2(39))"
      ],
      "metadata": {
        "colab": {
          "base_uri": "https://localhost:8080/"
        },
        "id": "-KgX1zG5n-1I",
        "outputId": "311282b3-b533-4a4e-b70b-8717eb448072"
      },
      "execution_count": 11,
      "outputs": [
        {
          "output_type": "stream",
          "name": "stdout",
          "text": [
            "Normal Temperature\n",
            "Fever!\n"
          ]
        }
      ]
    },
    {
      "cell_type": "code",
      "source": [
        "#'if..elif..else' statement\n",
        "def temp_evaluation_3(temp_3):\n",
        "    if temp_3 > 38:\n",
        "        output = \"Fever!\"\n",
        "    elif temp_3 > 35:\n",
        "        output = \"Normal Temperature\"    \n",
        "    else:\n",
        "        output = \"Low Temperature!\"\n",
        "    return output\n",
        "\n",
        "print(temp_evaluation_3(39))\n",
        "print(temp_evaluation_3(35)) \n",
        "print(temp_evaluation_3(37))       "
      ],
      "metadata": {
        "colab": {
          "base_uri": "https://localhost:8080/"
        },
        "id": "faUtnGgqrn96",
        "outputId": "087ac4c1-6892-4bf2-c6ea-cdd8e8883ff0"
      },
      "execution_count": 13,
      "outputs": [
        {
          "output_type": "stream",
          "name": "stdout",
          "text": [
            "Fever!\n",
            "Low Temperature!\n",
            "Normal Temperature\n"
          ]
        }
      ]
    },
    {
      "cell_type": "code",
      "source": [
        "#calculations using 'if..else'\n",
        "def net_pay(salary):\n",
        "    if salary > 12000:\n",
        "       output = salary * (1-0.30) \n",
        "    else:\n",
        "       output = salary * (1-0.25)  \n",
        "    return output\n",
        "\n",
        "\n",
        "nelly_salary = net_pay(14000)\n",
        "john_salary = net_pay(10000)\n",
        "\n",
        "print(nelly_salary)\n",
        "print(john_salary)        "
      ],
      "metadata": {
        "colab": {
          "base_uri": "https://localhost:8080/"
        },
        "id": "0XO3ajQUuKDo",
        "outputId": "1db7f2b5-f0f9-47ab-b437-7c0b7feb4a41"
      },
      "execution_count": 19,
      "outputs": [
        {
          "output_type": "stream",
          "name": "stdout",
          "text": [
            "9800.0\n",
            "7500.0\n"
          ]
        }
      ]
    },
    {
      "cell_type": "code",
      "source": [
        "#lists\n",
        "cooking_equip = [\"Cooker\" , \"Oven\" , \"Microwave\" , \"Toaster\" , \"Cooking pots\" , \"Pan\" , \"Mixer\" , \"Frier\" , \"Roller\" ]\n",
        "\n",
        "print(type(cooking_equip))\n",
        "print(cooking_equip)\n",
        "\n",
        "#length of list\n",
        "print(len(cooking_equip))\n",
        "\n",
        "#indexing\n",
        "print(\"First entry:\" + cooking_equip[0])\n",
        "print(\"Second entry:\" + cooking_equip[1])\n",
        "print(\"Last entry:\" + cooking_equip[8])"
      ],
      "metadata": {
        "colab": {
          "base_uri": "https://localhost:8080/"
        },
        "id": "3QtgW-o04upb",
        "outputId": "73401569-f27d-4086-8bac-a809bb9ea8cb"
      },
      "execution_count": 22,
      "outputs": [
        {
          "output_type": "stream",
          "name": "stdout",
          "text": [
            "<class 'list'>\n",
            "['Cooker', 'Oven', 'Microwave', 'Toaster', 'Cooking pots', 'Pan', 'Mixer', 'Frier', 'Roller']\n",
            "9\n",
            "First entry:Cooker\n",
            "Second entry:Oven\n",
            "Last entry:Roller\n"
          ]
        }
      ]
    },
    {
      "cell_type": "code",
      "source": [
        "#slicing\n",
        "print(\"Firts three segments:\" , cooking_equip[:3])\n",
        "print(\"Last two segments:\" , cooking_equip[-2:])"
      ],
      "metadata": {
        "colab": {
          "base_uri": "https://localhost:8080/"
        },
        "id": "GqDu6xK8-p_U",
        "outputId": "b6007626-8249-4e5e-dbae-f07a005a32c3"
      },
      "execution_count": 23,
      "outputs": [
        {
          "output_type": "stream",
          "name": "stdout",
          "text": [
            "Firts three segments: ['Cooker', 'Oven', 'Microwave']\n",
            "Last two segments: ['Frier', 'Roller']\n"
          ]
        }
      ]
    },
    {
      "cell_type": "code",
      "source": [
        "#Removing Items\n",
        "cooking_equip.remove(\"Mixer\")\n",
        "\n",
        "\n",
        "#Adding Items\n",
        "cooking_equip.append(\"Refrigerator\")"
      ],
      "metadata": {
        "id": "WGHosUHu_hZ3"
      },
      "execution_count": 24,
      "outputs": []
    },
    {
      "cell_type": "code",
      "source": [
        "#Lists for data sets\n",
        "#let x be the number of people in websites \n",
        "x = [139 , 188 , 170, 107 , 194 , 108 , 189 , 274 , 317 , 299]\n",
        "\n",
        "print(\"Legth of data:\" , len(x))\n",
        "print(\"People in website 2:\" , x[1] )\n"
      ],
      "metadata": {
        "colab": {
          "base_uri": "https://localhost:8080/"
        },
        "id": "WeHkTzwBBDvD",
        "outputId": "114e12e8-b6e3-425f-819d-8f5be05bd0b8"
      },
      "execution_count": 30,
      "outputs": [
        {
          "output_type": "stream",
          "name": "stdout",
          "text": [
            "Legth of data: 10\n",
            "People in website 2: 188\n"
          ]
        }
      ]
    },
    {
      "cell_type": "code",
      "source": [
        "#Obtaining maximum and minimum\n",
        "print(\"Maximum:\" , max(x))\n",
        "print(\"Minimum:\" , min(x))"
      ],
      "metadata": {
        "colab": {
          "base_uri": "https://localhost:8080/"
        },
        "id": "JyoarG5jD_DS",
        "outputId": "404875a8-0124-4c4e-cb4e-230e14a70bd7"
      },
      "execution_count": 32,
      "outputs": [
        {
          "output_type": "stream",
          "name": "stdout",
          "text": [
            "Maximum: 317\n",
            "Minimum: 107\n"
          ]
        }
      ]
    },
    {
      "cell_type": "code",
      "source": [
        "#Summing the dataset\n",
        "print(\"Sum of people in websites:\" , sum(x))"
      ],
      "metadata": {
        "colab": {
          "base_uri": "https://localhost:8080/"
        },
        "id": "eYCN_EbMEg2l",
        "outputId": "ee9bdaca-8543-45d9-a8dd-5526057ba845"
      },
      "execution_count": 33,
      "outputs": [
        {
          "output_type": "stream",
          "name": "stdout",
          "text": [
            "Sum of people in websites: 1985\n"
          ]
        }
      ]
    },
    {
      "cell_type": "code",
      "source": [
        "#Averaging\n",
        "#An average users for the first 6 websites\n",
        "print(\"Average of the first five websites:\" , (sum(x[:5])/5))"
      ],
      "metadata": {
        "colab": {
          "base_uri": "https://localhost:8080/"
        },
        "id": "jwOjvTroFMFK",
        "outputId": "72dc35dd-40b0-44a0-b79a-281da1d83b33"
      },
      "execution_count": 34,
      "outputs": [
        {
          "output_type": "stream",
          "name": "stdout",
          "text": [
            "Average of the first five websites: 159.6\n"
          ]
        }
      ]
    }
  ],
  "metadata": {
    "colab": {
      "provenance": [],
      "authorship_tag": "ABX9TyOQ4oRmuLBWzy5p58pv4n7E",
      "include_colab_link": true
    },
    "kernelspec": {
      "display_name": "Python 3",
      "name": "python3"
    },
    "language_info": {
      "name": "python"
    }
  },
  "nbformat": 4,
  "nbformat_minor": 0
}